{
 "cells": [
  {
   "cell_type": "code",
   "execution_count": 2,
   "metadata": {
    "collapsed": false
   },
   "outputs": [],
   "source": [
    "from astropy.io import fits\n",
    "import numpy as np\n",
    "import time\n",
    "import matplotlib\n",
    "import matplotlib.pyplot as plt\n",
    "from matplotlib.colors import LogNorm\n",
    "%matplotlib inline"
   ]
  },
  {
   "cell_type": "markdown",
   "metadata": {},
   "source": [
    "Change this to the location of your files:"
   ]
  },
  {
   "cell_type": "code",
   "execution_count": 3,
   "metadata": {
    "collapsed": false,
    "scrolled": true
   },
   "outputs": [
    {
     "name": "stdout",
     "output_type": "stream",
     "text": [
      "/home/soja5284/Documents/MAVEN/IUVS/Data/CSS/level1b\n"
     ]
    }
   ],
   "source": [
    "%cd '/home/soja5284/Documents/MAVEN/IUVS/Data/CSS/level1b/' # location of the folder "
   ]
  },
  {
   "cell_type": "code",
   "execution_count": 4,
   "metadata": {
    "collapsed": false
   },
   "outputs": [],
   "source": [
    "l1bfilenames=!ls ./"
   ]
  },
  {
   "cell_type": "code",
   "execution_count": 5,
   "metadata": {
    "collapsed": false
   },
   "outputs": [
    {
     "data": {
      "text/plain": [
       "['mvn_iuv_l1b_periapse-orbit00114-muv_20141019T152350_v03_r01.fits.gz']"
      ]
     },
     "execution_count": 5,
     "metadata": {},
     "output_type": "execute_result"
    }
   ],
   "source": [
    "l1bfilenames"
   ]
  },
  {
   "cell_type": "code",
   "execution_count": 6,
   "metadata": {
    "collapsed": false
   },
   "outputs": [
    {
     "name": "stdout",
     "output_type": "stream",
     "text": [
      "/home/soja5284/Documents/MAVEN/IUVS/Data/CSS/level1b\r\n"
     ]
    }
   ],
   "source": [
    "!pwd /"
   ]
  },
  {
   "cell_type": "code",
   "execution_count": 7,
   "metadata": {
    "collapsed": false
   },
   "outputs": [],
   "source": [
    "l1b=fits.open(l1bfilenames[0])"
   ]
  },
  {
   "cell_type": "code",
   "execution_count": 8,
   "metadata": {
    "collapsed": false
   },
   "outputs": [
    {
     "data": {
      "text/plain": [
       "['Random_phy_unc',\n",
       " 'Systematic_phy_unc',\n",
       " 'detector_raw',\n",
       " 'detector_dark_subtracted',\n",
       " 'quality_flag',\n",
       " 'background_dark',\n",
       " 'Dark_Integration',\n",
       " 'Dark_Engineering',\n",
       " 'Dark_Observation',\n",
       " 'detector_dark',\n",
       " 'Integration',\n",
       " 'Engineering',\n",
       " 'Binning',\n",
       " 'SpacecraftGeometry',\n",
       " 'PixelGeometry',\n",
       " 'Observation']"
      ]
     },
     "execution_count": 8,
     "metadata": {},
     "output_type": "execute_result"
    }
   ],
   "source": [
    "extnames=[ext.header['EXTNAME'] for ext in l1b[2:]];\n",
    "extnames"
   ]
  },
  {
   "cell_type": "code",
   "execution_count": 9,
   "metadata": {
    "collapsed": false
   },
   "outputs": [
    {
     "data": {
      "text/plain": [
       "'2014/292 Oct 19 15:23:50.08241UTC'"
      ]
     },
     "execution_count": 9,
     "metadata": {},
     "output_type": "execute_result"
    }
   ],
   "source": [
    "l1b['Integration'].data[0]['UTC']"
   ]
  },
  {
   "cell_type": "code",
   "execution_count": 10,
   "metadata": {
    "collapsed": false
   },
   "outputs": [
    {
     "data": {
      "text/plain": [
       "'2014 Oct 19 15:23:50.0824'"
      ]
     },
     "execution_count": 10,
     "metadata": {},
     "output_type": "execute_result"
    }
   ],
   "source": [
    "inttime=l1b['Integration'].data[0]['UTC'][0:-4]\n",
    "inttime[0:4]+inttime[8:]"
   ]
  },
  {
   "cell_type": "code",
   "execution_count": 11,
   "metadata": {
    "collapsed": false
   },
   "outputs": [
    {
     "data": {
      "text/plain": [
       "time.struct_time(tm_year=2014, tm_mon=10, tm_mday=19, tm_hour=15, tm_min=23, tm_sec=50, tm_wday=6, tm_yday=292, tm_isdst=0)"
      ]
     },
     "execution_count": 11,
     "metadata": {},
     "output_type": "execute_result"
    }
   ],
   "source": [
    "time.strptime(l1b['Integration'].data[0]['UTC'],\"%Y/%j %b %d %H:%M:%S.%f%Z\")"
   ]
  },
  {
   "cell_type": "code",
   "execution_count": 14,
   "metadata": {
    "collapsed": false
   },
   "outputs": [
    {
     "data": {
      "image/png": "[encoded data removed]",
      "text/plain": [
       "<matplotlib.figure.Figure at 0x7f820bd65f90>"
      ]
     },
     "metadata": {},
     "output_type": "display_data"
    }
   ],
   "source": [
    "waves=l1b[-1].data[0]['WAVELENGTH'][0]\n",
    "slitpos = range(0,7)\n",
    "\n",
    "X,Y=np.meshgrid(waves,slitpos)\n",
    "ext='detector_dark_subtracted'\n",
    "prodid=l1b[-1].data[0]['PRODUCT_ID']\n",
    "orbno=l1b[-1].data[0]['ORBIT_NUMBER']\n",
    "filetime=l1b[-1].data[0]['PRODUCT_ID'].split(\"_\")[5]\n",
    "stringtime=time.strftime(\"%d %b %H:%M:%S\",\\\n",
    "                         time.strptime(l1b['Integration'].data[0]['UTC'],\\\n",
    "                                       \"%Y/%j %b %d %H:%M:%S.%f%Z\"))\n",
    "intno=4\n",
    "\n",
    "title=prodid\n",
    "\n",
    "spawidth=l1b['Binning'].data[0]['SPABINWIDTH'][1]\n",
    "spewidth=l1b['Binning'].data[0]['SPEBINWIDTH'][1]\n",
    "npix=spawidth*spewidth\n",
    "\n",
    "Z=l1b[ext].data[intno]/npix\n",
    "\n",
    "fig, ax=plt.subplots(figsize=(10,2));\n",
    "im = plt.pcolor(X,Y,Z, cmap='gist_heat', norm=LogNorm(vmin=0.01,vmax=1e5));\n",
    "plt.axis([X.min(), X.max(), Y.min(), Y.max()]);\n",
    "plt.xlabel(\"Wavelength [nm]\");\n",
    "plt.ylabel(\"Slit position\");\n",
    "plt.title(title);\n",
    "ax.set_aspect(\"auto\");\n",
    "#ax.set_aspect(7)\n",
    "cb=plt.colorbar(im,pad=0.01,aspect=10,label=\"DN/pix\");\n",
    "\n",
    "imgfname='/home/soja5284/Desktop/'+ \\\n",
    "          prodid+\".png\";\n",
    "\n",
    "plt.savefig(imgfname,dpi=300,bbox_inches='tight');\n"
   ]
  },
  {
   "cell_type": "code",
   "execution_count": null,
   "metadata": {
    "collapsed": true
   },
   "outputs": [],
   "source": []
  }
 ],
 "metadata": {
  "kernelspec": {
   "display_name": "Python 2",
   "language": "python",
   "name": "python2"
  },
  "language_info": {
   "codemirror_mode": {
    "name": "ipython",
    "version": 2
   },
   "file_extension": ".py",
   "mimetype": "text/x-python",
   "name": "python",
   "nbconvert_exporter": "python",
   "pygments_lexer": "ipython2",
   "version": "2.7.6"
  }
 },
 "nbformat": 4,
 "nbformat_minor": 0
}
